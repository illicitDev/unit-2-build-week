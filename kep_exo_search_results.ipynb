{
 "cells": [
  {
   "cell_type": "markdown",
   "metadata": {},
   "source": [
    "# Kepler Exoplanet Search Results\n",
    "## 10000 exoplanet candidates examined by the Kepler Space Observatory\n",
    "### [NASA](https://exoplanetarchive.ipac.caltech.edu/cgi-bin/TblView/nph-tblView?app=ExoTbls&config=cumulative)"
   ]
  },
  {
   "cell_type": "markdown",
   "metadata": {},
   "source": [
    "## Data Dictionary "
   ]
  },
  {
   "cell_type": "markdown",
   "metadata": {},
   "source": [
    "|column_names|definition|\n",
    "|------------|----------|\n",
    "|kepid|KepID|\n",
    "|kepoi_name|KOI Name|\n",
    "|kepler_name|Kepler Name|\n",
    "|koi_disposition|Exoplanet Archive Disposition|\n",
    "|koi_pdisposition|Disposition Using Kepler Data|\n",
    "|koi_score|Disposition Score|\n",
    "|koi_fpflag_nt|Not Transit-Like False Positive Flag|\n",
    "|koi_fpflag_ss|Stellar Eclipse False Positive Flag|\n",
    "|koi_fpflag_co|Centroid Offset False Positive Flag|\n",
    "|koi_fpflag_ec|Ephemeris Match Indicates Contamination False Positive Flag|\n",
    "|koi_period|Orbital Period [days]|\n",
    "|koi_period_err1|Orbital Period Upper Unc. [days]|\n",
    "|koi_period_err2|Orbital Period Lower Unc. [days]|\n",
    "|koi_time0bk|Transit Epoch [BKJD]|\n",
    "|koi_time0bk_err1|Transit Epoch Upper Unc. [BKJD]|\n",
    "|koi_time0bk_err2|Transit Epoch Lower Unc. [BKJD]|\n",
    "|koi_impact|Impact Parameter|\n",
    "|koi_impact_err1|Impact Parameter Upper Unc.|\n",
    "|koi_impact_err2|Impact Parameter Lower Unc.|\n",
    "|koi_duration|Transit Duration [hrs]|\n",
    "|koi_duration_err1|Transit Duration Upper Unc. [hrs]|\n",
    "|koi_duration_err2|Transit Duration Lower Unc. [hrs]|\n",
    "|koi_depth|Transit Depth [ppm]|\n",
    "|koi_depth_err1|Transit Depth Upper Unc. [ppm]|\n",
    "|koi_depth_err2|Transit Depth Lower Unc. [ppm]|\n",
    "|koi_prad|Planetary Radius [Earth radii]|\n",
    "|koi_prad_err1|Planetary Radius Upper Unc. [Earth radii]|\n",
    "|koi_prad_err2|Planetary Radius Lower Unc. [Earth radii]|\n",
    "|koi_teq|Equilibrium Temperature [K]|\n",
    "|koi_teq_err1|Equilibrium Temperature Upper Unc. [K]|\n",
    "|koi_teq_err2|Equilibrium Temperature Lower Unc. [K]|\n",
    "|koi_insol|Insolation Flux [Earth flux]|\n",
    "|koi_insol_err1|Insolation Flux Upper Unc. [Earth flux]|\n",
    "|koi_insol_err2|Insolation Flux Lower Unc. [Earth flux]|\n",
    "|koi_model_snr|Transit Signal-to-Noise|\n",
    "|koi_tce_plnt_num|TCE Planet Number|\n",
    "|koi_tce_delivname|TCE Delivery|\n",
    "|koi_steff|Stellar Effective Temperature [K]|\n",
    "|koi_steff_err1|Stellar Effective Temperature Upper Unc. [K]|\n",
    "|koi_steff_err2|Stellar Effective Temperature Lower Unc. [K]|\n",
    "|koi_slogg|Stellar Surface Gravity [log10(cm/s**2)]|\n",
    "|koi_slogg_err1|Stellar Surface Gravity Upper Unc. [log10(cm/s**2)]|\n",
    "|koi_slogg_err2|Stellar Surface Gravity Lower Unc. [log10(cm/s**2)]|\n",
    "|koi_srad|Stellar Radius [Solar radii]|\n",
    "|koi_srad_err1|Stellar Radius Upper Unc. [Solar radii]|\n",
    "|koi_srad_err2|Stellar Radius Lower Unc. [Solar radii]|\n",
    "|ra|RA [decimal degrees]|\n",
    "|dec|Dec [decimal degrees]|\n",
    "|koi_kepmag|Kepler-band [mag]|"
   ]
  },
  {
   "cell_type": "code",
   "execution_count": 26,
   "metadata": {},
   "outputs": [],
   "source": [
    "import pandas as pd\n",
    "import numpy as np\n",
    "import matplotlib as plt\n",
    "from category_encoders import OrdinalEncoder, OneHotEncoder\n",
    "from sklearn.model_selection import train_test_split\n",
    "from sklearn.metrics import classification_report\n",
    "from sklearn.linear_model import LogisticRegression\n",
    "from sklearn.pipeline import make_pipeline\n",
    "from sklearn.impute import SimpleImputer\n",
    "from xgboost import XGBClassifier\n",
    "\n",
    "# pandas display options\n",
    "pd.set_option('display.max_rows', 500)\n",
    "pd.set_option('display.max_columns', 500)\n",
    "pd.set_option('display.width', 1000)"
   ]
  },
  {
   "cell_type": "markdown",
   "metadata": {},
   "source": [
    "# Wrangle"
   ]
  },
  {
   "cell_type": "code",
   "execution_count": 3,
   "metadata": {},
   "outputs": [],
   "source": [
    "def wrangle(filepath):\n",
    "    # read df\n",
    "    df = pd.read_csv(filepath).set_index('kepid')\n",
    "    \n",
    "    # drop cols with < 3000 null values\n",
    "    df.dropna(axis=1, thresh=3000, inplace=True)\n",
    "    \n",
    "    # drop high cardinality cols \n",
    "    cols = [col for col in df.select_dtypes('object').columns\n",
    "            if df[col].nunique() > 100]\n",
    "    df.drop(columns=cols, inplace=True)\n",
    "    \n",
    "    # drop repeat rows (observations)\n",
    "    df.drop_duplicates(inplace=True)\n",
    "    \n",
    "    # drop cols to prevent leakage\n",
    "    df.drop(columns=['koi_pdisposition', 'koi_score'], inplace=True)\n",
    "    \n",
    "    return df\n",
    "\n",
    "FILE_PATH = 'data/kep_observations.csv'\n",
    "\n",
    "df = wrangle(FILE_PATH)"
   ]
  },
  {
   "cell_type": "code",
   "execution_count": 4,
   "metadata": {},
   "outputs": [
    {
     "data": {
      "text/html": [
       "<div>\n",
       "<style scoped>\n",
       "    .dataframe tbody tr th:only-of-type {\n",
       "        vertical-align: middle;\n",
       "    }\n",
       "\n",
       "    .dataframe tbody tr th {\n",
       "        vertical-align: top;\n",
       "    }\n",
       "\n",
       "    .dataframe thead th {\n",
       "        text-align: right;\n",
       "    }\n",
       "</style>\n",
       "<table border=\"1\" class=\"dataframe\">\n",
       "  <thead>\n",
       "    <tr style=\"text-align: right;\">\n",
       "      <th></th>\n",
       "      <th>koi_disposition</th>\n",
       "      <th>koi_fpflag_nt</th>\n",
       "      <th>koi_fpflag_ss</th>\n",
       "      <th>koi_fpflag_co</th>\n",
       "      <th>koi_fpflag_ec</th>\n",
       "      <th>koi_period</th>\n",
       "      <th>koi_period_err1</th>\n",
       "      <th>koi_period_err2</th>\n",
       "      <th>koi_time0bk</th>\n",
       "      <th>koi_time0bk_err1</th>\n",
       "      <th>koi_time0bk_err2</th>\n",
       "      <th>koi_impact</th>\n",
       "      <th>koi_impact_err1</th>\n",
       "      <th>koi_impact_err2</th>\n",
       "      <th>koi_duration</th>\n",
       "      <th>koi_duration_err1</th>\n",
       "      <th>koi_duration_err2</th>\n",
       "      <th>koi_depth</th>\n",
       "      <th>koi_depth_err1</th>\n",
       "      <th>koi_depth_err2</th>\n",
       "      <th>koi_prad</th>\n",
       "      <th>koi_prad_err1</th>\n",
       "      <th>koi_prad_err2</th>\n",
       "      <th>koi_teq</th>\n",
       "      <th>koi_insol</th>\n",
       "      <th>koi_insol_err1</th>\n",
       "      <th>koi_insol_err2</th>\n",
       "      <th>koi_model_snr</th>\n",
       "      <th>koi_tce_plnt_num</th>\n",
       "      <th>koi_tce_delivname</th>\n",
       "      <th>koi_steff</th>\n",
       "      <th>koi_steff_err1</th>\n",
       "      <th>koi_steff_err2</th>\n",
       "      <th>koi_slogg</th>\n",
       "      <th>koi_slogg_err1</th>\n",
       "      <th>koi_slogg_err2</th>\n",
       "      <th>koi_srad</th>\n",
       "      <th>koi_srad_err1</th>\n",
       "      <th>koi_srad_err2</th>\n",
       "      <th>ra</th>\n",
       "      <th>dec</th>\n",
       "      <th>koi_kepmag</th>\n",
       "    </tr>\n",
       "    <tr>\n",
       "      <th>kepid</th>\n",
       "      <th></th>\n",
       "      <th></th>\n",
       "      <th></th>\n",
       "      <th></th>\n",
       "      <th></th>\n",
       "      <th></th>\n",
       "      <th></th>\n",
       "      <th></th>\n",
       "      <th></th>\n",
       "      <th></th>\n",
       "      <th></th>\n",
       "      <th></th>\n",
       "      <th></th>\n",
       "      <th></th>\n",
       "      <th></th>\n",
       "      <th></th>\n",
       "      <th></th>\n",
       "      <th></th>\n",
       "      <th></th>\n",
       "      <th></th>\n",
       "      <th></th>\n",
       "      <th></th>\n",
       "      <th></th>\n",
       "      <th></th>\n",
       "      <th></th>\n",
       "      <th></th>\n",
       "      <th></th>\n",
       "      <th></th>\n",
       "      <th></th>\n",
       "      <th></th>\n",
       "      <th></th>\n",
       "      <th></th>\n",
       "      <th></th>\n",
       "      <th></th>\n",
       "      <th></th>\n",
       "      <th></th>\n",
       "      <th></th>\n",
       "      <th></th>\n",
       "      <th></th>\n",
       "      <th></th>\n",
       "      <th></th>\n",
       "      <th></th>\n",
       "    </tr>\n",
       "  </thead>\n",
       "  <tbody>\n",
       "    <tr>\n",
       "      <th>10797460</th>\n",
       "      <td>CONFIRMED</td>\n",
       "      <td>0</td>\n",
       "      <td>0</td>\n",
       "      <td>0</td>\n",
       "      <td>0</td>\n",
       "      <td>9.488036</td>\n",
       "      <td>2.780000e-05</td>\n",
       "      <td>-2.780000e-05</td>\n",
       "      <td>170.538750</td>\n",
       "      <td>0.002160</td>\n",
       "      <td>-0.002160</td>\n",
       "      <td>0.146</td>\n",
       "      <td>0.318</td>\n",
       "      <td>-0.146</td>\n",
       "      <td>2.95750</td>\n",
       "      <td>0.08190</td>\n",
       "      <td>-0.08190</td>\n",
       "      <td>616.0</td>\n",
       "      <td>19.5</td>\n",
       "      <td>-19.5</td>\n",
       "      <td>2.26</td>\n",
       "      <td>0.26</td>\n",
       "      <td>-0.15</td>\n",
       "      <td>793.0</td>\n",
       "      <td>93.59</td>\n",
       "      <td>29.45</td>\n",
       "      <td>-16.65</td>\n",
       "      <td>35.8</td>\n",
       "      <td>1.0</td>\n",
       "      <td>q1_q17_dr25_tce</td>\n",
       "      <td>5455.0</td>\n",
       "      <td>81.0</td>\n",
       "      <td>-81.0</td>\n",
       "      <td>4.467</td>\n",
       "      <td>0.064</td>\n",
       "      <td>-0.096</td>\n",
       "      <td>0.927</td>\n",
       "      <td>0.105</td>\n",
       "      <td>-0.061</td>\n",
       "      <td>291.93423</td>\n",
       "      <td>48.141651</td>\n",
       "      <td>15.347</td>\n",
       "    </tr>\n",
       "    <tr>\n",
       "      <th>10797460</th>\n",
       "      <td>CONFIRMED</td>\n",
       "      <td>0</td>\n",
       "      <td>0</td>\n",
       "      <td>0</td>\n",
       "      <td>0</td>\n",
       "      <td>54.418383</td>\n",
       "      <td>2.480000e-04</td>\n",
       "      <td>-2.480000e-04</td>\n",
       "      <td>162.513840</td>\n",
       "      <td>0.003520</td>\n",
       "      <td>-0.003520</td>\n",
       "      <td>0.586</td>\n",
       "      <td>0.059</td>\n",
       "      <td>-0.443</td>\n",
       "      <td>4.50700</td>\n",
       "      <td>0.11600</td>\n",
       "      <td>-0.11600</td>\n",
       "      <td>875.0</td>\n",
       "      <td>35.5</td>\n",
       "      <td>-35.5</td>\n",
       "      <td>2.83</td>\n",
       "      <td>0.32</td>\n",
       "      <td>-0.19</td>\n",
       "      <td>443.0</td>\n",
       "      <td>9.11</td>\n",
       "      <td>2.87</td>\n",
       "      <td>-1.62</td>\n",
       "      <td>25.8</td>\n",
       "      <td>2.0</td>\n",
       "      <td>q1_q17_dr25_tce</td>\n",
       "      <td>5455.0</td>\n",
       "      <td>81.0</td>\n",
       "      <td>-81.0</td>\n",
       "      <td>4.467</td>\n",
       "      <td>0.064</td>\n",
       "      <td>-0.096</td>\n",
       "      <td>0.927</td>\n",
       "      <td>0.105</td>\n",
       "      <td>-0.061</td>\n",
       "      <td>291.93423</td>\n",
       "      <td>48.141651</td>\n",
       "      <td>15.347</td>\n",
       "    </tr>\n",
       "    <tr>\n",
       "      <th>10811496</th>\n",
       "      <td>CANDIDATE</td>\n",
       "      <td>0</td>\n",
       "      <td>0</td>\n",
       "      <td>0</td>\n",
       "      <td>0</td>\n",
       "      <td>19.899140</td>\n",
       "      <td>1.490000e-05</td>\n",
       "      <td>-1.490000e-05</td>\n",
       "      <td>175.850252</td>\n",
       "      <td>0.000581</td>\n",
       "      <td>-0.000581</td>\n",
       "      <td>0.969</td>\n",
       "      <td>5.126</td>\n",
       "      <td>-0.077</td>\n",
       "      <td>1.78220</td>\n",
       "      <td>0.03410</td>\n",
       "      <td>-0.03410</td>\n",
       "      <td>10800.0</td>\n",
       "      <td>171.0</td>\n",
       "      <td>-171.0</td>\n",
       "      <td>14.60</td>\n",
       "      <td>3.92</td>\n",
       "      <td>-1.31</td>\n",
       "      <td>638.0</td>\n",
       "      <td>39.30</td>\n",
       "      <td>31.04</td>\n",
       "      <td>-10.49</td>\n",
       "      <td>76.3</td>\n",
       "      <td>1.0</td>\n",
       "      <td>q1_q17_dr25_tce</td>\n",
       "      <td>5853.0</td>\n",
       "      <td>158.0</td>\n",
       "      <td>-176.0</td>\n",
       "      <td>4.544</td>\n",
       "      <td>0.044</td>\n",
       "      <td>-0.176</td>\n",
       "      <td>0.868</td>\n",
       "      <td>0.233</td>\n",
       "      <td>-0.078</td>\n",
       "      <td>297.00482</td>\n",
       "      <td>48.134129</td>\n",
       "      <td>15.436</td>\n",
       "    </tr>\n",
       "    <tr>\n",
       "      <th>10848459</th>\n",
       "      <td>FALSE POSITIVE</td>\n",
       "      <td>0</td>\n",
       "      <td>1</td>\n",
       "      <td>0</td>\n",
       "      <td>0</td>\n",
       "      <td>1.736952</td>\n",
       "      <td>2.630000e-07</td>\n",
       "      <td>-2.630000e-07</td>\n",
       "      <td>170.307565</td>\n",
       "      <td>0.000115</td>\n",
       "      <td>-0.000115</td>\n",
       "      <td>1.276</td>\n",
       "      <td>0.115</td>\n",
       "      <td>-0.092</td>\n",
       "      <td>2.40641</td>\n",
       "      <td>0.00537</td>\n",
       "      <td>-0.00537</td>\n",
       "      <td>8080.0</td>\n",
       "      <td>12.8</td>\n",
       "      <td>-12.8</td>\n",
       "      <td>33.46</td>\n",
       "      <td>8.50</td>\n",
       "      <td>-2.83</td>\n",
       "      <td>1395.0</td>\n",
       "      <td>891.96</td>\n",
       "      <td>668.95</td>\n",
       "      <td>-230.35</td>\n",
       "      <td>505.6</td>\n",
       "      <td>1.0</td>\n",
       "      <td>q1_q17_dr25_tce</td>\n",
       "      <td>5805.0</td>\n",
       "      <td>157.0</td>\n",
       "      <td>-174.0</td>\n",
       "      <td>4.564</td>\n",
       "      <td>0.053</td>\n",
       "      <td>-0.168</td>\n",
       "      <td>0.791</td>\n",
       "      <td>0.201</td>\n",
       "      <td>-0.067</td>\n",
       "      <td>285.53461</td>\n",
       "      <td>48.285210</td>\n",
       "      <td>15.597</td>\n",
       "    </tr>\n",
       "    <tr>\n",
       "      <th>10854555</th>\n",
       "      <td>CONFIRMED</td>\n",
       "      <td>0</td>\n",
       "      <td>0</td>\n",
       "      <td>0</td>\n",
       "      <td>0</td>\n",
       "      <td>2.525592</td>\n",
       "      <td>3.760000e-06</td>\n",
       "      <td>-3.760000e-06</td>\n",
       "      <td>171.595550</td>\n",
       "      <td>0.001130</td>\n",
       "      <td>-0.001130</td>\n",
       "      <td>0.701</td>\n",
       "      <td>0.235</td>\n",
       "      <td>-0.478</td>\n",
       "      <td>1.65450</td>\n",
       "      <td>0.04200</td>\n",
       "      <td>-0.04200</td>\n",
       "      <td>603.0</td>\n",
       "      <td>16.9</td>\n",
       "      <td>-16.9</td>\n",
       "      <td>2.75</td>\n",
       "      <td>0.88</td>\n",
       "      <td>-0.35</td>\n",
       "      <td>1406.0</td>\n",
       "      <td>926.16</td>\n",
       "      <td>874.33</td>\n",
       "      <td>-314.24</td>\n",
       "      <td>40.9</td>\n",
       "      <td>1.0</td>\n",
       "      <td>q1_q17_dr25_tce</td>\n",
       "      <td>6031.0</td>\n",
       "      <td>169.0</td>\n",
       "      <td>-211.0</td>\n",
       "      <td>4.438</td>\n",
       "      <td>0.070</td>\n",
       "      <td>-0.210</td>\n",
       "      <td>1.046</td>\n",
       "      <td>0.334</td>\n",
       "      <td>-0.133</td>\n",
       "      <td>288.75488</td>\n",
       "      <td>48.226200</td>\n",
       "      <td>15.509</td>\n",
       "    </tr>\n",
       "  </tbody>\n",
       "</table>\n",
       "</div>"
      ],
      "text/plain": [
       "         koi_disposition  koi_fpflag_nt  koi_fpflag_ss  koi_fpflag_co  koi_fpflag_ec  koi_period  koi_period_err1  koi_period_err2  koi_time0bk  koi_time0bk_err1  koi_time0bk_err2  koi_impact  koi_impact_err1  koi_impact_err2  koi_duration  koi_duration_err1  koi_duration_err2  koi_depth  koi_depth_err1  koi_depth_err2  koi_prad  koi_prad_err1  koi_prad_err2  koi_teq  koi_insol  koi_insol_err1  koi_insol_err2  koi_model_snr  koi_tce_plnt_num koi_tce_delivname  koi_steff  koi_steff_err1  koi_steff_err2  koi_slogg  koi_slogg_err1  koi_slogg_err2  koi_srad  koi_srad_err1  koi_srad_err2         ra        dec  koi_kepmag\n",
       "kepid                                                                                                                                                                                                                                                                                                                                                                                                                                                                                                                                                                                                                                          \n",
       "10797460       CONFIRMED              0              0              0              0    9.488036     2.780000e-05    -2.780000e-05   170.538750          0.002160         -0.002160       0.146            0.318           -0.146       2.95750            0.08190           -0.08190      616.0            19.5           -19.5      2.26           0.26          -0.15    793.0      93.59           29.45          -16.65           35.8               1.0   q1_q17_dr25_tce     5455.0            81.0           -81.0      4.467           0.064          -0.096     0.927          0.105         -0.061  291.93423  48.141651      15.347\n",
       "10797460       CONFIRMED              0              0              0              0   54.418383     2.480000e-04    -2.480000e-04   162.513840          0.003520         -0.003520       0.586            0.059           -0.443       4.50700            0.11600           -0.11600      875.0            35.5           -35.5      2.83           0.32          -0.19    443.0       9.11            2.87           -1.62           25.8               2.0   q1_q17_dr25_tce     5455.0            81.0           -81.0      4.467           0.064          -0.096     0.927          0.105         -0.061  291.93423  48.141651      15.347\n",
       "10811496       CANDIDATE              0              0              0              0   19.899140     1.490000e-05    -1.490000e-05   175.850252          0.000581         -0.000581       0.969            5.126           -0.077       1.78220            0.03410           -0.03410    10800.0           171.0          -171.0     14.60           3.92          -1.31    638.0      39.30           31.04          -10.49           76.3               1.0   q1_q17_dr25_tce     5853.0           158.0          -176.0      4.544           0.044          -0.176     0.868          0.233         -0.078  297.00482  48.134129      15.436\n",
       "10848459  FALSE POSITIVE              0              1              0              0    1.736952     2.630000e-07    -2.630000e-07   170.307565          0.000115         -0.000115       1.276            0.115           -0.092       2.40641            0.00537           -0.00537     8080.0            12.8           -12.8     33.46           8.50          -2.83   1395.0     891.96          668.95         -230.35          505.6               1.0   q1_q17_dr25_tce     5805.0           157.0          -174.0      4.564           0.053          -0.168     0.791          0.201         -0.067  285.53461  48.285210      15.597\n",
       "10854555       CONFIRMED              0              0              0              0    2.525592     3.760000e-06    -3.760000e-06   171.595550          0.001130         -0.001130       0.701            0.235           -0.478       1.65450            0.04200           -0.04200      603.0            16.9           -16.9      2.75           0.88          -0.35   1406.0     926.16          874.33         -314.24           40.9               1.0   q1_q17_dr25_tce     6031.0           169.0          -211.0      4.438           0.070          -0.210     1.046          0.334         -0.133  288.75488  48.226200      15.509"
      ]
     },
     "execution_count": 4,
     "metadata": {},
     "output_type": "execute_result"
    }
   ],
   "source": [
    "df.head()"
   ]
  },
  {
   "cell_type": "markdown",
   "metadata": {},
   "source": [
    "# Split"
   ]
  },
  {
   "cell_type": "code",
   "execution_count": 49,
   "metadata": {},
   "outputs": [],
   "source": [
    "target = 'koi_disposition'\n",
    "# target vector\n",
    "y = df[target]\n",
    "# feature matrix\n",
    "X = df.drop(columns=target)\n",
    "\n",
    "# 80/20 train validation split\n",
    "X_train, X_val, y_train, y_val = train_test_split(X, y, test_size=0.2, random_state=42)\n",
    "\n",
    "# reset indices for clasification report\n",
    "X_train.reset_index(inplace=True)\n",
    "X_val.reset_index(inplace=True)"
   ]
  },
  {
   "cell_type": "markdown",
   "metadata": {},
   "source": [
    "# Baseline "
   ]
  },
  {
   "cell_type": "code",
   "execution_count": 43,
   "metadata": {},
   "outputs": [
    {
     "name": "stdout",
     "output_type": "stream",
     "text": [
      "Baseline Accuracy: 0.5098679911122729\n"
     ]
    }
   ],
   "source": [
    "# majority class\n",
    "print('Baseline Accuracy:', y_train.value_counts(normalize=True).max())"
   ]
  },
  {
   "cell_type": "markdown",
   "metadata": {},
   "source": [
    "# Build Models"
   ]
  },
  {
   "cell_type": "markdown",
   "metadata": {},
   "source": [
    "## Gradient Boosted Tree"
   ]
  },
  {
   "cell_type": "code",
   "execution_count": 44,
   "metadata": {},
   "outputs": [
    {
     "name": "stderr",
     "output_type": "stream",
     "text": [
      "/home/austin/.local/lib/python3.8/site-packages/xgboost/sklearn.py:888: UserWarning: The use of label encoder in XGBClassifier is deprecated and will be removed in a future release. To remove this warning, do the following: 1) Pass option use_label_encoder=False when constructing XGBClassifier object; and 2) Encode your labels (y) as integers starting with 0, i.e. 0, 1, 2, ..., [num_class - 1].\n",
      "  warnings.warn(label_encoder_deprecation_msg, UserWarning)\n"
     ]
    },
    {
     "name": "stdout",
     "output_type": "stream",
     "text": [
      "[15:58:56] WARNING: ../src/learner.cc:1061: Starting in XGBoost 1.3.0, the default evaluation metric used with the objective 'multi:softprob' was changed from 'merror' to 'mlogloss'. Explicitly set eval_metric if you'd like to restore the old behavior.\n"
     ]
    }
   ],
   "source": [
    "xgb = make_pipeline(\n",
    "    OrdinalEncoder(),\n",
    "    SimpleImputer(),\n",
    "    XGBClassifier(n_estimators=90,\n",
    "                  max_depth=2,\n",
    "                  random_state=42, \n",
    "                  n_jobs=-1)\n",
    ")\n",
    "\n",
    "xgb.fit(X_train, y_train);"
   ]
  },
  {
   "cell_type": "markdown",
   "metadata": {},
   "source": [
    "## Multinomial Logestic Regression"
   ]
  },
  {
   "cell_type": "code",
   "execution_count": 45,
   "metadata": {},
   "outputs": [
    {
     "name": "stderr",
     "output_type": "stream",
     "text": [
      "/home/austin/.local/lib/python3.8/site-packages/category_encoders/utils.py:21: FutureWarning: is_categorical is deprecated and will be removed in a future version.  Use is_categorical_dtype instead\n",
      "  elif pd.api.types.is_categorical(cols):\n"
     ]
    }
   ],
   "source": [
    "mlr = make_pipeline(\n",
    "    OneHotEncoder(),\n",
    "    SimpleImputer(),\n",
    "    LogisticRegression(multi_class='multinomial',\n",
    "                       solver='sag',\n",
    "                       max_iter=10000,\n",
    "                       random_state=42)\n",
    ")\n",
    "\n",
    "mlr.fit(X_train, y_train);"
   ]
  },
  {
   "cell_type": "markdown",
   "metadata": {},
   "source": [
    "# Communicate Results "
   ]
  },
  {
   "cell_type": "markdown",
   "metadata": {},
   "source": [
    "## Gradient Boosted Tree Accuracy"
   ]
  },
  {
   "cell_type": "code",
   "execution_count": 46,
   "metadata": {},
   "outputs": [
    {
     "name": "stdout",
     "output_type": "stream",
     "text": [
      "XGB Training Accuracy: 0.9345183636125997\n",
      "XGB Validation Accuracy: 0.909566126502875\n"
     ]
    }
   ],
   "source": [
    "print('XGB Training Accuracy:', xgb.score(X_train, y_train))\n",
    "print('XGB Validation Accuracy:', xgb.score(X_val, y_val))"
   ]
  },
  {
   "cell_type": "markdown",
   "metadata": {},
   "source": [
    "## Multinomial Logestic Regression Accuracy"
   ]
  },
  {
   "cell_type": "code",
   "execution_count": 47,
   "metadata": {},
   "outputs": [
    {
     "name": "stdout",
     "output_type": "stream",
     "text": [
      "MLR Training Accuracy: 0.5477715331329238\n",
      "MLR Validation Accuracy: 0.5279665446941976\n"
     ]
    }
   ],
   "source": [
    "print('MLR Training Accuracy:', mlr.score(X_train, y_train))\n",
    "print('MLR Validation Accuracy:', mlr.score(X_val, y_val))"
   ]
  },
  {
   "cell_type": "markdown",
   "metadata": {},
   "source": [
    "## Classification Report"
   ]
  },
  {
   "cell_type": "code",
   "execution_count": 56,
   "metadata": {},
   "outputs": [
    {
     "name": "stdout",
     "output_type": "stream",
     "text": [
      "-------------------------------------------------------\n",
      "GRADIENT BOOSTED TREE\n",
      "-------------------------------------------------------\n",
      "                precision    recall  f1-score   support\n",
      "\n",
      "     CANDIDATE       0.89      0.84      0.87      1882\n",
      "     CONFIRMED       0.85      0.91      0.88      1868\n",
      "FALSE POSITIVE       0.99      0.99      0.99      3901\n",
      "\n",
      "      accuracy                           0.93      7651\n",
      "     macro avg       0.91      0.91      0.91      7651\n",
      "  weighted avg       0.94      0.93      0.93      7651\n",
      "\n",
      "\n",
      "-------------------------------------------------------\n",
      "MULTINOMIAL LOGESTIC REGRESSION\n",
      "-------------------------------------------------------\n",
      "                precision    recall  f1-score   support\n",
      "\n",
      "     CANDIDATE       1.00      0.00      0.00      1882\n",
      "     CONFIRMED       0.40      0.39      0.40      1868\n",
      "FALSE POSITIVE       0.59      0.89      0.71      3901\n",
      "\n",
      "      accuracy                           0.55      7651\n",
      "     macro avg       0.67      0.43      0.37      7651\n",
      "  weighted avg       0.65      0.55      0.46      7651\n",
      "\n"
     ]
    }
   ],
   "source": [
    "print('-------------------------------------------------------')\n",
    "print('Gradient Boosted Tree'.upper())\n",
    "print('-------------------------------------------------------')\n",
    "print(classification_report(y_train, xgb.predict(X_train)))\n",
    "print()\n",
    "print('-------------------------------------------------------')\n",
    "print('Multinomial Logestic Regression'.upper())\n",
    "print('-------------------------------------------------------')\n",
    "print(classification_report(y_train, mlr.predict(X_train)))"
   ]
  },
  {
   "cell_type": "code",
   "execution_count": null,
   "metadata": {},
   "outputs": [],
   "source": []
  }
 ],
 "metadata": {
  "kernelspec": {
   "display_name": "Python 3",
   "language": "python",
   "name": "python3"
  },
  "language_info": {
   "codemirror_mode": {
    "name": "ipython",
    "version": 3
   },
   "file_extension": ".py",
   "mimetype": "text/x-python",
   "name": "python",
   "nbconvert_exporter": "python",
   "pygments_lexer": "ipython3",
   "version": "3.8.5"
  }
 },
 "nbformat": 4,
 "nbformat_minor": 4
}
